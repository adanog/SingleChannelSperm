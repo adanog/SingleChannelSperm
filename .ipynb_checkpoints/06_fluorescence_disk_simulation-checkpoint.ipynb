{
 "cells": [
  {
   "cell_type": "markdown",
   "id": "0a9d3a5a",
   "metadata": {},
   "source": [
    "# Modeling the Observed Fluorescence Distribution\n",
    "This notebook models the observed fluorescence distribution of a disk-like object with the width of a mouse sperm acrosome (400 nm diameter) labeled with Fluo-5N. The observed distribution considers the physical size of the object and the imaging system's resolution, simulated as a Gaussian point spread function (PSF)."
   ]
  },
  {
   "cell_type": "code",
   "execution_count": null,
   "id": "5e04f0a2",
   "metadata": {},
   "outputs": [],
   "source": [
    "# Import necessary libraries\n",
    "import numpy as np\n",
    "import matplotlib.pyplot as plt\n",
    "from scipy.ndimage import gaussian_filter"
   ]
  },
  {
   "cell_type": "code",
   "execution_count": null,
   "id": "4944be88",
   "metadata": {},
   "outputs": [],
   "source": [
    "# Define parameters for the simulation\n",
    "disk_diameter = 400  # nm (Width of mouse sperm acrosome)\n",
    "disk_radius = disk_diameter / 2  # nm\n",
    "pixel_size = 5  # nm/pixel for fine resolution\n",
    "grid_size = 1000  # nm, size of the simulation grid\n",
    "emission_wavelength = 516  # nm (Fluo-5N emission)\n",
    "NA = 1.4  # Numerical aperture of the objective\n",
    "\n",
    "# Calculate the PSF width and its standard deviation\n",
    "psf_fwhm = 0.61 * emission_wavelength / NA  # Approximation of the PSF width in nm\n",
    "psf_sigma = psf_fwhm / (2 * np.sqrt(2 * np.log(2)))  # Convert FWHM to sigma"
   ]
  },
  {
   "cell_type": "code",
   "execution_count": null,
   "id": "994f83dd",
   "metadata": {},
   "outputs": [],
   "source": [
    "# Create a 2D grid for the simulation\n",
    "grid_points = int(grid_size / pixel_size)\n",
    "x = np.linspace(-grid_size / 2, grid_size / 2, grid_points)\n",
    "y = np.linspace(-grid_size / 2, grid_size / 2, grid_points)\n",
    "xx, yy = np.meshgrid(x, y)"
   ]
  },
  {
   "cell_type": "code",
   "execution_count": null,
   "id": "a070b0c8",
   "metadata": {},
   "outputs": [],
   "source": [
    "# Create a binary mask of the disk\n",
    "disk = np.sqrt(xx**2 + yy**2) <= disk_radius\n",
    "disk = disk.astype(float)"
   ]
  },
  {
   "cell_type": "code",
   "execution_count": null,
   "id": "9416f257",
   "metadata": {},
   "outputs": [],
   "source": [
    "# Apply the PSF as a Gaussian blur to simulate the observed distribution\n",
    "psf_sigma_pixels = psf_sigma / pixel_size  # Convert PSF sigma to pixel units\n",
    "observed_distribution = gaussian_filter(disk, psf_sigma_pixels)"
   ]
  },
  {
   "cell_type": "code",
   "execution_count": null,
   "id": "0ff5cb7b",
   "metadata": {},
   "outputs": [],
   "source": [
    "# Calculate the intensity profile along one axis (e.g., x-axis)\n",
    "profile = observed_distribution[grid_points // 2, :]\n",
    "fwhm = np.sum(profile > (np.max(profile) / 2)) * pixel_size  # FWHM in nm\n",
    "\n",
    "# Print the calculated FWHM\n",
    "print(f\"Calculated FWHM: {fwhm:.1f} nm\")"
   ]
  },
  {
   "cell_type": "code",
   "execution_count": null,
   "id": "d75635bb",
   "metadata": {},
   "outputs": [],
   "source": [
    "# Plot the observed distribution and intensity profile\n",
    "plt.figure(figsize=(12, 6))\n",
    "\n",
    "# 2D visualization of the distribution\n",
    "plt.subplot(1, 2, 1)\n",
    "plt.imshow(observed_distribution, extent=[-grid_size/2, grid_size/2, -grid_size/2, grid_size/2], cmap='viridis')\n",
    "plt.colorbar(label=\"Intensity\")\n",
    "plt.title(\"Observed Distribution (Convolved with PSF)\")\n",
    "plt.xlabel(\"x (nm)\")\n",
    "plt.ylabel(\"y (nm)\")\n",
    "\n",
    "# Intensity profile\n",
    "plt.subplot(1, 2, 2)\n",
    "plt.plot(x, profile, label=f\"FWHM ≈ {fwhm:.1f} nm\")\n",
    "plt.axhline(np.max(profile) / 2, color='red', linestyle='--', label=\"Half-Max Intensity\")\n",
    "plt.title(\"Intensity Profile Across the Disk\")\n",
    "plt.xlabel(\"Position (nm)\")\n",
    "plt.ylabel(\"Intensity\")\n",
    "plt.legend()\n",
    "\n",
    "plt.tight_layout()\n",
    "plt.show()"
   ]
  },
  {
   "cell_type": "code",
   "execution_count": null,
   "id": "48c61859",
   "metadata": {},
   "outputs": [],
   "source": [
    "# Compute the full width of the distribution\n",
    "# Define a threshold for near-zero intensity (e.g., numerical noise level)\n",
    "threshold = 1e-3 * np.max(profile)  # 0.1% of the maximum intensity\n",
    "\n",
    "# Find the indices where the intensity is above the threshold\n",
    "above_threshold = np.where(profile >= threshold)[0]\n",
    "\n",
    "# Compute the full width of the distribution in nanometers\n",
    "full_width = (above_threshold[-1] - above_threshold[0]) * pixel_size\n",
    "\n",
    "print(f\"Full Width of the Distribution: {full_width:.1f} nm\")"
   ]
  }
 ],
 "metadata": {},
 "nbformat": 4,
 "nbformat_minor": 5
}
