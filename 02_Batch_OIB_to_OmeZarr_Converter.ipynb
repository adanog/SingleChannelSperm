{
 "cells": [
  {
   "cell_type": "markdown",
   "id": "ebfa30ca-37e9-4f93-a7f6-451860d813e2",
   "metadata": {},
   "source": [
    "# OIB to Ome-Zarr (Linescan Confocal Microscopy) Batch Conversion\n",
    "\n",
    "This script performs batch conversion of all `.oib` files in a folder to the Ome-Zarr format.\n"
   ]
  },
  {
   "cell_type": "markdown",
   "id": "58a273b7-eb3c-433b-bb97-c1f936fdc363",
   "metadata": {},
   "source": [
    "## Define directory containing the files to be converted"
   ]
  },
  {
   "cell_type": "code",
   "execution_count": 10,
   "id": "0ab593cf-eb23-41ce-9039-f8f072ba5333",
   "metadata": {},
   "outputs": [],
   "source": [
    "data_path = '/home/jovyan/LNMA/guerreroa/data'\n",
    "data_folder = '20241114'"
   ]
  },
  {
   "cell_type": "markdown",
   "id": "274a7af9-8344-4125-abba-ebfd04e26253",
   "metadata": {},
   "source": [
    "## Install and load required libraries"
   ]
  },
  {
   "cell_type": "code",
   "execution_count": 13,
   "id": "26ae49fc-956d-4821-b132-0f1b93db5bb0",
   "metadata": {},
   "outputs": [
    {
     "name": "stdout",
     "output_type": "stream",
     "text": [
      "Installing necessary libraries...\n",
      "Libraries installed successfully.\n"
     ]
    }
   ],
   "source": [
    "print(\"Installing necessary libraries...\")\n",
    "!pip install natsort oiffile ome-zarr > /dev/null 2>&1\n",
    "print(\"Libraries installed successfully.\")"
   ]
  },
  {
   "cell_type": "markdown",
   "id": "ec2f8708-a75e-495e-86bc-0510f59766b4",
   "metadata": {},
   "source": [
    "## Import Libraries"
   ]
  },
  {
   "cell_type": "code",
   "execution_count": 20,
   "id": "50d6c68d-3bf9-48ed-8709-0e76233d6564",
   "metadata": {},
   "outputs": [],
   "source": [
    "import oiffile\n",
    "import os\n",
    "import zarr\n",
    "from ome_zarr.io import parse_url\n",
    "from natsort import natsorted\n",
    "import numpy as np"
   ]
  },
  {
   "cell_type": "markdown",
   "id": "16363ce5-4ed0-419a-b537-877b43584165",
   "metadata": {},
   "source": [
    "## Functions"
   ]
  },
  {
   "cell_type": "code",
   "execution_count": 8,
   "id": "ce1c8b37-3bfa-4d91-bc2f-67ed5ee492d6",
   "metadata": {},
   "outputs": [],
   "source": [
    "def clean_filenames(directory_path):\n",
    "    \"\"\"\n",
    "    Cleans filenames in the specified directory by replacing certain characters\n",
    "    and renaming the files in the filesystem.\n",
    "\n",
    "    Parameters:\n",
    "        directory_path (str): Path to the directory containing the files.\n",
    "\n",
    "    Returns:\n",
    "        list: A list of cleaned file names sorted naturally.\n",
    "    \"\"\"\n",
    "    # Initialize a list to store cleaned file names\n",
    "    cleaned_file_names = []\n",
    "\n",
    "    # Process each file in the specified directory\n",
    "    for file_name in os.listdir(directory_path):\n",
    "        # Construct the original full path\n",
    "        original_path = os.path.join(directory_path, file_name)\n",
    "\n",
    "        # Clean the filename by replacing spaces and other unwanted characters\n",
    "        cleaned_name = file_name.replace(' ', '_').replace('-', '_').replace('/', '_')\n",
    "        cleaned_name = cleaned_name.replace('+', '_').replace('_copy', '')\n",
    "\n",
    "        # Construct the new full path\n",
    "        cleaned_path = os.path.join(directory_path, cleaned_name)\n",
    "\n",
    "        # Rename the file if the cleaned name is different from the original name\n",
    "        if original_path != cleaned_path:\n",
    "            os.rename(original_path, cleaned_path)\n",
    "            #print(f\"Renamed {original_path} to {cleaned_path}\")\n",
    "\n",
    "        # Append the cleaned file name to the list\n",
    "        cleaned_file_names.append(cleaned_name)\n",
    "\n",
    "    # Return the list of cleaned file names, sorted naturally\n",
    "    return natsorted(cleaned_file_names)"
   ]
  },
  {
   "cell_type": "markdown",
   "id": "d60c9ade-eeae-4861-9aa1-df7034919e42",
   "metadata": {},
   "source": [
    "## Clean file names"
   ]
  },
  {
   "cell_type": "code",
   "execution_count": 15,
   "id": "23060c25-bb94-4891-9c59-aceb444d5d1f",
   "metadata": {},
   "outputs": [
    {
     "data": {
      "text/plain": [
       "['14_11_24_Exp1_TYH_FB_22C.oib', '14_11_24_Exp1_TYH_mib_22C_15segundos.oib']"
      ]
     },
     "execution_count": 15,
     "metadata": {},
     "output_type": "execute_result"
    }
   ],
   "source": [
    "directory_path = os.path.join(data_path, data_folder)\n",
    "cleaned_files = clean_filenames(directory_path)\n",
    "cleaned_files"
   ]
  },
  {
   "cell_type": "code",
   "execution_count": 18,
   "id": "0f2fd60d-15e4-436c-a5cb-a5f8c4c4177b",
   "metadata": {},
   "outputs": [
    {
     "data": {
      "text/plain": [
       "'/home/jovyan/LNMA/guerreroa/data/20241114'"
      ]
     },
     "execution_count": 18,
     "metadata": {},
     "output_type": "execute_result"
    }
   ],
   "source": [
    "directory_path"
   ]
  },
  {
   "cell_type": "markdown",
   "id": "179de408-a540-47fe-b48f-cd5c28918989",
   "metadata": {},
   "source": [
    "## Create OME-Zarr files with metadata and rois included"
   ]
  },
  {
   "cell_type": "code",
   "execution_count": 22,
   "id": "7691592b-de88-4eb9-9040-d7b401810713",
   "metadata": {},
   "outputs": [
    {
     "name": "stdout",
     "output_type": "stream",
     "text": [
      "Conversion complete. The OME-Zarr files are saved with all metadata.\n"
     ]
    }
   ],
   "source": [
    "for oib_file in cleaned_files:\n",
    "    oib_file_path = os.path.join(directory_path, oib_file)\n",
    "    ome_zarr_path = f'{oib_file_path[:-4]}.zarr'\n",
    "    with oiffile.OifFile(oib_file_path) as oib:\n",
    "        image_data = oib.asarray()  # Load image data\n",
    "        all_metadata = dict(oib.mainfile)  # Retrieve all metadata as a dictionary\n",
    "    \n",
    "    ## Format Image Data for OME-Zarr\n",
    "    \n",
    "    # Ensure data shape is in (T, C, Z, Y, X) format\n",
    "    while image_data.ndim < 5:\n",
    "        image_data = np.expand_dims(image_data, axis=0)  # Add dimensions as needed\n",
    "\n",
    "    # Convert the data to a numpy array (if not already)\n",
    "    image_data = np.asarray(image_data)\n",
    "\n",
    "    # Reorder data\n",
    "    image_data = image_data.transpose(0, 2, 1, 3, 4)\n",
    "    \n",
    "    ## Remove Existing Zarr Store (if exists)\n",
    "    if os.path.exists(ome_zarr_path):\n",
    "        import shutil\n",
    "        shutil.rmtree(ome_zarr_path)\n",
    "        \n",
    "    ## Save Image Data and Metadata to OME-Zarr\n",
    "    store = parse_url(ome_zarr_path, mode=\"w\").store\n",
    "    root = zarr.group(store=store)\n",
    "    dataset = root.create_dataset(\"image_data\", data=image_data, chunks=True)\n",
    "\n",
    "    # Save image metadata and ROI metadata as attributes\n",
    "    root.attrs[\"image_metadata\"] = all_metadata\n",
    "\n",
    "print(\"Conversion complete. The OME-Zarr files are saved with all metadata.\")\n"
   ]
  }
 ],
 "metadata": {
  "kernelspec": {
   "display_name": "Python 3 (ipykernel)",
   "language": "python",
   "name": "python3"
  },
  "language_info": {
   "codemirror_mode": {
    "name": "ipython",
    "version": 3
   },
   "file_extension": ".py",
   "mimetype": "text/x-python",
   "name": "python",
   "nbconvert_exporter": "python",
   "pygments_lexer": "ipython3",
   "version": "3.11.8"
  }
 },
 "nbformat": 4,
 "nbformat_minor": 5
}
