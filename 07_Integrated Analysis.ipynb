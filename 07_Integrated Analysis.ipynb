{
 "cells": [
  {
   "cell_type": "markdown",
   "id": "1c4a2878-2255-40eb-b11e-f77de13b7f73",
   "metadata": {},
   "source": [
    "# Script to analyze nsna data by groups\n",
    "Load and analyze the processed_data.npy file"
   ]
  },
  {
   "cell_type": "markdown",
   "id": "7f6ced6f-1311-4cd2-b77d-b9b9c320a186",
   "metadata": {},
   "source": [
    "## Functions"
   ]
  },
  {
   "cell_type": "code",
   "execution_count": null,
   "id": "19ff83f2-7eb3-4c14-8e05-9238541fb273",
   "metadata": {},
   "outputs": [],
   "source": []
  },
  {
   "cell_type": "markdown",
   "id": "4e1ddd58-5e2e-45ef-8e4a-9c3608923969",
   "metadata": {},
   "source": [
    "## Paths and parameteres"
   ]
  },
  {
   "cell_type": "code",
   "execution_count": null,
   "id": "11bfc5f2-ea03-4a3e-9f51-aa274165eaf7",
   "metadata": {},
   "outputs": [],
   "source": [
    "data_file = os.path.join(directory_path, \"processed_data.npy\")\n",
    "directory_path = '/home/jovyan/LNMA/guerreroa/data/20241122'\n",
    "\n",
    "#Parameters\n",
    "window_duration_ms = 50  # Time window in milliseconds\n",
    "I_step= 1\n",
    "Var_step= 1\n",
    "\n"
   ]
  },
  {
   "cell_type": "markdown",
   "id": "d54fa122-844f-41ce-b9f4-e489e5ed4a8a",
   "metadata": {},
   "source": [
    "## Load and analyze the processed_data.npy file"
   ]
  },
  {
   "cell_type": "code",
   "execution_count": null,
   "id": "04aba260-0818-443b-91e7-d735518b7ffc",
   "metadata": {},
   "outputs": [],
   "source": [
    "# Load the data list\n",
    "try:\n",
    "    data_list = np.load(data_file, allow_pickle=True)\n",
    "    print(f\"Loaded data from {data_file}.\")\n",
    "    \n",
    "    # Access and iterate through each data_dict\n",
    "    for data_dict in data_list:\n",
    "        file_name = data_dict[\"file_name\"]\n",
    "\n",
    "\n",
    "        # Only process files ending with 'C2.zarr'\n",
    "        #if not (file_name.endswith(\"C4.zarr\") and \"ANAL\" in file_name):\n",
    "        #    continue\n",
    "        \n",
    "        \n",
    "        region_result = data_dict[\"region_result\"]\n",
    "        nsna_image = data_dict[\"nsna_image\"]\n",
    "        \n",
    "        print(f\"File: {file_name}\")\n",
    "        means = np.array(region_result[\"mean_values\"])\n",
    "        variances = np.array(region_result[\"variance_values\"])\n",
    "    \n",
    "        #fit_and_plot_variance_with_background_binned_step(\n",
    "        #    means, variances, file_name, I_step, Var_step\n",
    "         #   )\n",
    "        \n",
    "        # Example: Print file name and keys in region_result\n",
    "\n",
    "        print(f\"Region Result Keys: {region_result.keys()}\")\n",
    "        print(f\"nsna_image Shape: {nsna_image.shape}\")\n",
    "except Exception as e:\n",
    "    print(f\"Error loading file: {e}\")"
   ]
  }
 ],
 "metadata": {
  "kernelspec": {
   "display_name": "Python 3 (ipykernel)",
   "language": "python",
   "name": "python3"
  },
  "language_info": {
   "codemirror_mode": {
    "name": "ipython",
    "version": 3
   },
   "file_extension": ".py",
   "mimetype": "text/x-python",
   "name": "python",
   "nbconvert_exporter": "python",
   "pygments_lexer": "ipython3",
   "version": "3.11.8"
  }
 },
 "nbformat": 4,
 "nbformat_minor": 5
}
